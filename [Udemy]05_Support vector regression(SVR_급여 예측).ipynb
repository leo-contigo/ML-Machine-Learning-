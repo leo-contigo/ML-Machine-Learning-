{
  "nbformat": 4,
  "nbformat_minor": 0,
  "metadata": {
    "colab": {
      "provenance": []
    },
    "kernelspec": {
      "name": "python3",
      "display_name": "Python 3"
    }
  },
  "cells": [
    {
      "cell_type": "markdown",
      "source": [
        "# Udemy 【한글자막】머신러닝의 모든 것 with Python, R\n"
      ],
      "metadata": {
        "id": "jknOYyZ1LAZ1"
      }
    },
    {
      "cell_type": "code",
      "source": [
        "from google.colab import drive\n",
        "drive.mount('/content/drive')"
      ],
      "metadata": {
        "colab": {
          "base_uri": "https://localhost:8080/",
          "height": 0
        },
        "id": "j5Gn5g0SLB0T",
        "outputId": "93f9ccc3-f651-4ef8-ed7a-658c6f3d393d"
      },
      "execution_count": 1,
      "outputs": [
        {
          "output_type": "stream",
          "name": "stdout",
          "text": [
            "Mounted at /content/drive\n"
          ]
        }
      ]
    },
    {
      "cell_type": "markdown",
      "metadata": {
        "id": "m3PAEPRDRLA3"
      },
      "source": [
        "# Support Vector Regression (SVR)\n",
        "## 직급 수준에 맞는 급여 예측\n",
        "\n",
        "> - 강의 82 - SVR 1단계\n",
        "- 강의 83 - SVR 2단계\n",
        "- 강의 84 - SVR 3단계\n",
        "- 강의 85 - SVR 4단계\n",
        "- 강의 86 - SVR 5단계"
      ]
    },
    {
      "cell_type": "markdown",
      "metadata": {
        "id": "0VCUAVIjRdzZ"
      },
      "source": [
        "## Importing the libraries"
      ]
    },
    {
      "cell_type": "code",
      "metadata": {
        "id": "56oRF-QfSDzC"
      },
      "source": [
        "import numpy as np\n",
        "import matplotlib.pyplot as plt\n",
        "import pandas as pd"
      ],
      "execution_count": 2,
      "outputs": []
    },
    {
      "cell_type": "markdown",
      "metadata": {
        "id": "fXVXoFWtSF4_"
      },
      "source": [
        "## Importing the dataset"
      ]
    },
    {
      "cell_type": "code",
      "metadata": {
        "id": "xfoa8OSORfHQ",
        "colab": {
          "base_uri": "https://localhost:8080/",
          "height": 363
        },
        "outputId": "cae8c8c8-7b25-48a1-af73-2b8c765ae226"
      },
      "source": [
        "dataset = pd.read_csv('/content/drive/MyDrive/UDEMY/Machine Learning A-Z (Codes and Datasets)/Part 2 - Regression(회귀)/Section 7 - Support Vector Regression (SVR)/Position_Salaries.csv')\n",
        "dataset"
      ],
      "execution_count": 101,
      "outputs": [
        {
          "output_type": "execute_result",
          "data": {
            "text/plain": [
              "            Position  Level   Salary\n",
              "0   Business Analyst      1    45000\n",
              "1  Junior Consultant      2    50000\n",
              "2  Senior Consultant      3    60000\n",
              "3            Manager      4    80000\n",
              "4    Country Manager      5   110000\n",
              "5     Region Manager      6   150000\n",
              "6            Partner      7   200000\n",
              "7     Senior Partner      8   300000\n",
              "8            C-level      9   500000\n",
              "9                CEO     10  1000000"
            ],
            "text/html": [
              "\n",
              "  <div id=\"df-ad9b2ae4-07ed-4c89-849e-e1077d652910\">\n",
              "    <div class=\"colab-df-container\">\n",
              "      <div>\n",
              "<style scoped>\n",
              "    .dataframe tbody tr th:only-of-type {\n",
              "        vertical-align: middle;\n",
              "    }\n",
              "\n",
              "    .dataframe tbody tr th {\n",
              "        vertical-align: top;\n",
              "    }\n",
              "\n",
              "    .dataframe thead th {\n",
              "        text-align: right;\n",
              "    }\n",
              "</style>\n",
              "<table border=\"1\" class=\"dataframe\">\n",
              "  <thead>\n",
              "    <tr style=\"text-align: right;\">\n",
              "      <th></th>\n",
              "      <th>Position</th>\n",
              "      <th>Level</th>\n",
              "      <th>Salary</th>\n",
              "    </tr>\n",
              "  </thead>\n",
              "  <tbody>\n",
              "    <tr>\n",
              "      <th>0</th>\n",
              "      <td>Business Analyst</td>\n",
              "      <td>1</td>\n",
              "      <td>45000</td>\n",
              "    </tr>\n",
              "    <tr>\n",
              "      <th>1</th>\n",
              "      <td>Junior Consultant</td>\n",
              "      <td>2</td>\n",
              "      <td>50000</td>\n",
              "    </tr>\n",
              "    <tr>\n",
              "      <th>2</th>\n",
              "      <td>Senior Consultant</td>\n",
              "      <td>3</td>\n",
              "      <td>60000</td>\n",
              "    </tr>\n",
              "    <tr>\n",
              "      <th>3</th>\n",
              "      <td>Manager</td>\n",
              "      <td>4</td>\n",
              "      <td>80000</td>\n",
              "    </tr>\n",
              "    <tr>\n",
              "      <th>4</th>\n",
              "      <td>Country Manager</td>\n",
              "      <td>5</td>\n",
              "      <td>110000</td>\n",
              "    </tr>\n",
              "    <tr>\n",
              "      <th>5</th>\n",
              "      <td>Region Manager</td>\n",
              "      <td>6</td>\n",
              "      <td>150000</td>\n",
              "    </tr>\n",
              "    <tr>\n",
              "      <th>6</th>\n",
              "      <td>Partner</td>\n",
              "      <td>7</td>\n",
              "      <td>200000</td>\n",
              "    </tr>\n",
              "    <tr>\n",
              "      <th>7</th>\n",
              "      <td>Senior Partner</td>\n",
              "      <td>8</td>\n",
              "      <td>300000</td>\n",
              "    </tr>\n",
              "    <tr>\n",
              "      <th>8</th>\n",
              "      <td>C-level</td>\n",
              "      <td>9</td>\n",
              "      <td>500000</td>\n",
              "    </tr>\n",
              "    <tr>\n",
              "      <th>9</th>\n",
              "      <td>CEO</td>\n",
              "      <td>10</td>\n",
              "      <td>1000000</td>\n",
              "    </tr>\n",
              "  </tbody>\n",
              "</table>\n",
              "</div>\n",
              "      <button class=\"colab-df-convert\" onclick=\"convertToInteractive('df-ad9b2ae4-07ed-4c89-849e-e1077d652910')\"\n",
              "              title=\"Convert this dataframe to an interactive table.\"\n",
              "              style=\"display:none;\">\n",
              "        \n",
              "  <svg xmlns=\"http://www.w3.org/2000/svg\" height=\"24px\"viewBox=\"0 0 24 24\"\n",
              "       width=\"24px\">\n",
              "    <path d=\"M0 0h24v24H0V0z\" fill=\"none\"/>\n",
              "    <path d=\"M18.56 5.44l.94 2.06.94-2.06 2.06-.94-2.06-.94-.94-2.06-.94 2.06-2.06.94zm-11 1L8.5 8.5l.94-2.06 2.06-.94-2.06-.94L8.5 2.5l-.94 2.06-2.06.94zm10 10l.94 2.06.94-2.06 2.06-.94-2.06-.94-.94-2.06-.94 2.06-2.06.94z\"/><path d=\"M17.41 7.96l-1.37-1.37c-.4-.4-.92-.59-1.43-.59-.52 0-1.04.2-1.43.59L10.3 9.45l-7.72 7.72c-.78.78-.78 2.05 0 2.83L4 21.41c.39.39.9.59 1.41.59.51 0 1.02-.2 1.41-.59l7.78-7.78 2.81-2.81c.8-.78.8-2.07 0-2.86zM5.41 20L4 18.59l7.72-7.72 1.47 1.35L5.41 20z\"/>\n",
              "  </svg>\n",
              "      </button>\n",
              "      \n",
              "  <style>\n",
              "    .colab-df-container {\n",
              "      display:flex;\n",
              "      flex-wrap:wrap;\n",
              "      gap: 12px;\n",
              "    }\n",
              "\n",
              "    .colab-df-convert {\n",
              "      background-color: #E8F0FE;\n",
              "      border: none;\n",
              "      border-radius: 50%;\n",
              "      cursor: pointer;\n",
              "      display: none;\n",
              "      fill: #1967D2;\n",
              "      height: 32px;\n",
              "      padding: 0 0 0 0;\n",
              "      width: 32px;\n",
              "    }\n",
              "\n",
              "    .colab-df-convert:hover {\n",
              "      background-color: #E2EBFA;\n",
              "      box-shadow: 0px 1px 2px rgba(60, 64, 67, 0.3), 0px 1px 3px 1px rgba(60, 64, 67, 0.15);\n",
              "      fill: #174EA6;\n",
              "    }\n",
              "\n",
              "    [theme=dark] .colab-df-convert {\n",
              "      background-color: #3B4455;\n",
              "      fill: #D2E3FC;\n",
              "    }\n",
              "\n",
              "    [theme=dark] .colab-df-convert:hover {\n",
              "      background-color: #434B5C;\n",
              "      box-shadow: 0px 1px 3px 1px rgba(0, 0, 0, 0.15);\n",
              "      filter: drop-shadow(0px 1px 2px rgba(0, 0, 0, 0.3));\n",
              "      fill: #FFFFFF;\n",
              "    }\n",
              "  </style>\n",
              "\n",
              "      <script>\n",
              "        const buttonEl =\n",
              "          document.querySelector('#df-ad9b2ae4-07ed-4c89-849e-e1077d652910 button.colab-df-convert');\n",
              "        buttonEl.style.display =\n",
              "          google.colab.kernel.accessAllowed ? 'block' : 'none';\n",
              "\n",
              "        async function convertToInteractive(key) {\n",
              "          const element = document.querySelector('#df-ad9b2ae4-07ed-4c89-849e-e1077d652910');\n",
              "          const dataTable =\n",
              "            await google.colab.kernel.invokeFunction('convertToInteractive',\n",
              "                                                     [key], {});\n",
              "          if (!dataTable) return;\n",
              "\n",
              "          const docLinkHtml = 'Like what you see? Visit the ' +\n",
              "            '<a target=\"_blank\" href=https://colab.research.google.com/notebooks/data_table.ipynb>data table notebook</a>'\n",
              "            + ' to learn more about interactive tables.';\n",
              "          element.innerHTML = '';\n",
              "          dataTable['output_type'] = 'display_data';\n",
              "          await google.colab.output.renderOutput(dataTable, element);\n",
              "          const docLink = document.createElement('div');\n",
              "          docLink.innerHTML = docLinkHtml;\n",
              "          element.appendChild(docLink);\n",
              "        }\n",
              "      </script>\n",
              "    </div>\n",
              "  </div>\n",
              "  "
            ]
          },
          "metadata": {},
          "execution_count": 101
        }
      ]
    },
    {
      "cell_type": "code",
      "source": [
        "dataset.info()\n",
        "print('=============================')\n",
        "dataset.isna().sum()"
      ],
      "metadata": {
        "colab": {
          "base_uri": "https://localhost:8080/",
          "height": 0
        },
        "id": "91R6dY4RDOKT",
        "outputId": "b1833fda-daf5-4091-b3fa-2dc30aa96152"
      },
      "execution_count": 102,
      "outputs": [
        {
          "output_type": "stream",
          "name": "stdout",
          "text": [
            "<class 'pandas.core.frame.DataFrame'>\n",
            "RangeIndex: 10 entries, 0 to 9\n",
            "Data columns (total 3 columns):\n",
            " #   Column    Non-Null Count  Dtype \n",
            "---  ------    --------------  ----- \n",
            " 0   Position  10 non-null     object\n",
            " 1   Level     10 non-null     int64 \n",
            " 2   Salary    10 non-null     int64 \n",
            "dtypes: int64(2), object(1)\n",
            "memory usage: 368.0+ bytes\n",
            "=============================\n"
          ]
        },
        {
          "output_type": "execute_result",
          "data": {
            "text/plain": [
              "Position    0\n",
              "Level       0\n",
              "Salary      0\n",
              "dtype: int64"
            ]
          },
          "metadata": {},
          "execution_count": 102
        }
      ]
    },
    {
      "cell_type": "code",
      "source": [
        "type(dataset['Level'].values), type(dataset.iloc[:, 1:-1].values)"
      ],
      "metadata": {
        "colab": {
          "base_uri": "https://localhost:8080/",
          "height": 0
        },
        "id": "Wzfrl0XPDc9X",
        "outputId": "c779fccc-52de-4a61-a898-8680bb256de6"
      },
      "execution_count": 103,
      "outputs": [
        {
          "output_type": "execute_result",
          "data": {
            "text/plain": [
              "(numpy.ndarray, numpy.ndarray)"
            ]
          },
          "metadata": {},
          "execution_count": 103
        }
      ]
    },
    {
      "cell_type": "code",
      "source": [
        "type(dataset['Salary'].values), type(dataset.iloc[:, -1].values)"
      ],
      "metadata": {
        "colab": {
          "base_uri": "https://localhost:8080/",
          "height": 0
        },
        "id": "PGgIautgFGDz",
        "outputId": "c9f9a216-1dc4-42ba-dfa4-886b68a7086d"
      },
      "execution_count": 104,
      "outputs": [
        {
          "output_type": "execute_result",
          "data": {
            "text/plain": [
              "(numpy.ndarray, numpy.ndarray)"
            ]
          },
          "metadata": {},
          "execution_count": 104
        }
      ]
    },
    {
      "cell_type": "code",
      "source": [
        "# 강의 코드\n",
        "\n",
        "X = dataset.iloc[:, 1:-1].values\n",
        "print(X)\n",
        "# X는 2차원\n",
        "print('===============')\n",
        "y = dataset.iloc[:, -1].values\n",
        "print(y)\n",
        "# y는 1차원\n",
        "# 표준화를 위해서 배열 동일하게 설정\n",
        "print('===============')\n",
        "y = y.reshape(len(y),1)\n",
        "print(y)"
      ],
      "metadata": {
        "colab": {
          "base_uri": "https://localhost:8080/",
          "height": 0
        },
        "id": "-px9DCsNoLVQ",
        "outputId": "c0b3dc13-e228-4857-8ef0-1f20cd80dffb"
      },
      "execution_count": 105,
      "outputs": [
        {
          "output_type": "stream",
          "name": "stdout",
          "text": [
            "[[ 1]\n",
            " [ 2]\n",
            " [ 3]\n",
            " [ 4]\n",
            " [ 5]\n",
            " [ 6]\n",
            " [ 7]\n",
            " [ 8]\n",
            " [ 9]\n",
            " [10]]\n",
            "===============\n",
            "[  45000   50000   60000   80000  110000  150000  200000  300000  500000\n",
            " 1000000]\n",
            "===============\n",
            "[[  45000]\n",
            " [  50000]\n",
            " [  60000]\n",
            " [  80000]\n",
            " [ 110000]\n",
            " [ 150000]\n",
            " [ 200000]\n",
            " [ 300000]\n",
            " [ 500000]\n",
            " [1000000]]\n"
          ]
        }
      ]
    },
    {
      "cell_type": "code",
      "source": [
        "X1 = dataset['Level'].values\n",
        "y1 = dataset['Salary'].values\n",
        "print(X1)\n",
        "print(y1)\n",
        "print('****************')\n",
        "\n",
        "# 2차원 배열 \n",
        "# resahpe(행숫자, 열숫자)\n",
        "X1 = X1.reshape(len(X1),1)\n",
        "y1 = y1.reshape(len(y1),1)\n",
        "print(X1)\n",
        "print('===============')\n",
        "print(y1)"
      ],
      "metadata": {
        "colab": {
          "base_uri": "https://localhost:8080/",
          "height": 0
        },
        "id": "bYv8g9gqDy6b",
        "outputId": "9d9f1f03-233a-4ed3-81cf-ee62773bc3a2"
      },
      "execution_count": 106,
      "outputs": [
        {
          "output_type": "stream",
          "name": "stdout",
          "text": [
            "[ 1  2  3  4  5  6  7  8  9 10]\n",
            "[  45000   50000   60000   80000  110000  150000  200000  300000  500000\n",
            " 1000000]\n",
            "****************\n",
            "[[ 1]\n",
            " [ 2]\n",
            " [ 3]\n",
            " [ 4]\n",
            " [ 5]\n",
            " [ 6]\n",
            " [ 7]\n",
            " [ 8]\n",
            " [ 9]\n",
            " [10]]\n",
            "===============\n",
            "[[  45000]\n",
            " [  50000]\n",
            " [  60000]\n",
            " [  80000]\n",
            " [ 110000]\n",
            " [ 150000]\n",
            " [ 200000]\n",
            " [ 300000]\n",
            " [ 500000]\n",
            " [1000000]]\n"
          ]
        }
      ]
    },
    {
      "cell_type": "markdown",
      "source": [
        "## Feature Scaling"
      ],
      "metadata": {
        "id": "yrvt9-0xGZ-g"
      }
    },
    {
      "cell_type": "code",
      "source": [
        "# 훈련, 테스트 세트 나누지 않음.\n",
        "# 최대 데이터를 극대화 해서 관계성을 파악하기 위함.\n",
        "# 직급, 급여 사이 관계"
      ],
      "metadata": {
        "id": "fnjo05FBFesC"
      },
      "execution_count": 9,
      "outputs": []
    },
    {
      "cell_type": "code",
      "source": [
        "from sklearn.preprocessing import StandardScaler\n",
        "\n",
        "# X1 = Level\n",
        "sc_X1 = StandardScaler()\n",
        "X1 = sc_X1.fit_transform(X1)\n",
        "\n",
        "# y1 = Salary\n",
        "sc_y1 = StandardScaler()\n",
        "y1 = sc_y1.fit_transform(y1)"
      ],
      "metadata": {
        "id": "0We5uNHOFepm"
      },
      "execution_count": 107,
      "outputs": []
    },
    {
      "cell_type": "code",
      "source": [
        "print(X1)\n",
        "print('===============')\n",
        "print(y1)"
      ],
      "metadata": {
        "colab": {
          "base_uri": "https://localhost:8080/",
          "height": 0
        },
        "id": "Gkenss2nFems",
        "outputId": "a682402a-6cd4-43cb-d500-d5106653fa4e"
      },
      "execution_count": 108,
      "outputs": [
        {
          "output_type": "stream",
          "name": "stdout",
          "text": [
            "[[-1.5666989 ]\n",
            " [-1.21854359]\n",
            " [-0.87038828]\n",
            " [-0.52223297]\n",
            " [-0.17407766]\n",
            " [ 0.17407766]\n",
            " [ 0.52223297]\n",
            " [ 0.87038828]\n",
            " [ 1.21854359]\n",
            " [ 1.5666989 ]]\n",
            "===============\n",
            "[[-0.72004253]\n",
            " [-0.70243757]\n",
            " [-0.66722767]\n",
            " [-0.59680786]\n",
            " [-0.49117815]\n",
            " [-0.35033854]\n",
            " [-0.17428902]\n",
            " [ 0.17781001]\n",
            " [ 0.88200808]\n",
            " [ 2.64250325]]\n"
          ]
        }
      ]
    },
    {
      "cell_type": "markdown",
      "source": [
        "## Training the SVR model on the whole dataset"
      ],
      "metadata": {
        "id": "zYedU5icI_cm"
      }
    },
    {
      "cell_type": "code",
      "source": [
        "from sklearn.svm import SVR\n",
        "# 회귀 서포트 백터 → 회귀 변수\n",
        "# SVR(범주 kernel = '문자열') 방사형 기본 함수 커널 RBF\n",
        "regressor = SVR(kernel = 'rbf')\n",
        "\n",
        "#훈련\n",
        "regressor.fit(X1, y1)"
      ],
      "metadata": {
        "id": "Oo_OLI-IJAjt",
        "colab": {
          "base_uri": "https://localhost:8080/",
          "height": 131
        },
        "outputId": "2ad1b0aa-93cf-4060-f83d-497e7b514dc1"
      },
      "execution_count": 109,
      "outputs": [
        {
          "output_type": "stream",
          "name": "stderr",
          "text": [
            "/usr/local/lib/python3.9/dist-packages/sklearn/utils/validation.py:1143: DataConversionWarning: A column-vector y was passed when a 1d array was expected. Please change the shape of y to (n_samples, ), for example using ravel().\n",
            "  y = column_or_1d(y, warn=True)\n"
          ]
        },
        {
          "output_type": "execute_result",
          "data": {
            "text/plain": [
              "SVR()"
            ],
            "text/html": [
              "<style>#sk-container-id-10 {color: black;background-color: white;}#sk-container-id-10 pre{padding: 0;}#sk-container-id-10 div.sk-toggleable {background-color: white;}#sk-container-id-10 label.sk-toggleable__label {cursor: pointer;display: block;width: 100%;margin-bottom: 0;padding: 0.3em;box-sizing: border-box;text-align: center;}#sk-container-id-10 label.sk-toggleable__label-arrow:before {content: \"▸\";float: left;margin-right: 0.25em;color: #696969;}#sk-container-id-10 label.sk-toggleable__label-arrow:hover:before {color: black;}#sk-container-id-10 div.sk-estimator:hover label.sk-toggleable__label-arrow:before {color: black;}#sk-container-id-10 div.sk-toggleable__content {max-height: 0;max-width: 0;overflow: hidden;text-align: left;background-color: #f0f8ff;}#sk-container-id-10 div.sk-toggleable__content pre {margin: 0.2em;color: black;border-radius: 0.25em;background-color: #f0f8ff;}#sk-container-id-10 input.sk-toggleable__control:checked~div.sk-toggleable__content {max-height: 200px;max-width: 100%;overflow: auto;}#sk-container-id-10 input.sk-toggleable__control:checked~label.sk-toggleable__label-arrow:before {content: \"▾\";}#sk-container-id-10 div.sk-estimator input.sk-toggleable__control:checked~label.sk-toggleable__label {background-color: #d4ebff;}#sk-container-id-10 div.sk-label input.sk-toggleable__control:checked~label.sk-toggleable__label {background-color: #d4ebff;}#sk-container-id-10 input.sk-hidden--visually {border: 0;clip: rect(1px 1px 1px 1px);clip: rect(1px, 1px, 1px, 1px);height: 1px;margin: -1px;overflow: hidden;padding: 0;position: absolute;width: 1px;}#sk-container-id-10 div.sk-estimator {font-family: monospace;background-color: #f0f8ff;border: 1px dotted black;border-radius: 0.25em;box-sizing: border-box;margin-bottom: 0.5em;}#sk-container-id-10 div.sk-estimator:hover {background-color: #d4ebff;}#sk-container-id-10 div.sk-parallel-item::after {content: \"\";width: 100%;border-bottom: 1px solid gray;flex-grow: 1;}#sk-container-id-10 div.sk-label:hover label.sk-toggleable__label {background-color: #d4ebff;}#sk-container-id-10 div.sk-serial::before {content: \"\";position: absolute;border-left: 1px solid gray;box-sizing: border-box;top: 0;bottom: 0;left: 50%;z-index: 0;}#sk-container-id-10 div.sk-serial {display: flex;flex-direction: column;align-items: center;background-color: white;padding-right: 0.2em;padding-left: 0.2em;position: relative;}#sk-container-id-10 div.sk-item {position: relative;z-index: 1;}#sk-container-id-10 div.sk-parallel {display: flex;align-items: stretch;justify-content: center;background-color: white;position: relative;}#sk-container-id-10 div.sk-item::before, #sk-container-id-10 div.sk-parallel-item::before {content: \"\";position: absolute;border-left: 1px solid gray;box-sizing: border-box;top: 0;bottom: 0;left: 50%;z-index: -1;}#sk-container-id-10 div.sk-parallel-item {display: flex;flex-direction: column;z-index: 1;position: relative;background-color: white;}#sk-container-id-10 div.sk-parallel-item:first-child::after {align-self: flex-end;width: 50%;}#sk-container-id-10 div.sk-parallel-item:last-child::after {align-self: flex-start;width: 50%;}#sk-container-id-10 div.sk-parallel-item:only-child::after {width: 0;}#sk-container-id-10 div.sk-dashed-wrapped {border: 1px dashed gray;margin: 0 0.4em 0.5em 0.4em;box-sizing: border-box;padding-bottom: 0.4em;background-color: white;}#sk-container-id-10 div.sk-label label {font-family: monospace;font-weight: bold;display: inline-block;line-height: 1.2em;}#sk-container-id-10 div.sk-label-container {text-align: center;}#sk-container-id-10 div.sk-container {/* jupyter's `normalize.less` sets `[hidden] { display: none; }` but bootstrap.min.css set `[hidden] { display: none !important; }` so we also need the `!important` here to be able to override the default hidden behavior on the sphinx rendered scikit-learn.org. See: https://github.com/scikit-learn/scikit-learn/issues/21755 */display: inline-block !important;position: relative;}#sk-container-id-10 div.sk-text-repr-fallback {display: none;}</style><div id=\"sk-container-id-10\" class=\"sk-top-container\"><div class=\"sk-text-repr-fallback\"><pre>SVR()</pre><b>In a Jupyter environment, please rerun this cell to show the HTML representation or trust the notebook. <br />On GitHub, the HTML representation is unable to render, please try loading this page with nbviewer.org.</b></div><div class=\"sk-container\" hidden><div class=\"sk-item\"><div class=\"sk-estimator sk-toggleable\"><input class=\"sk-toggleable__control sk-hidden--visually\" id=\"sk-estimator-id-10\" type=\"checkbox\" checked><label for=\"sk-estimator-id-10\" class=\"sk-toggleable__label sk-toggleable__label-arrow\">SVR</label><div class=\"sk-toggleable__content\"><pre>SVR()</pre></div></div></div></div></div>"
            ]
          },
          "metadata": {},
          "execution_count": 109
        }
      ]
    },
    {
      "cell_type": "markdown",
      "metadata": {
        "id": "deDnDr8UR5vq"
      },
      "source": [
        "## Predicting a new result"
      ]
    },
    {
      "cell_type": "code",
      "source": [
        "# 예측\n",
        "# 2차원 배열로 되어 있음\n",
        "regressor.predict([[6.5]])"
      ],
      "metadata": {
        "id": "lxVM5b2fJAgw",
        "colab": {
          "base_uri": "https://localhost:8080/",
          "height": 0
        },
        "outputId": "b5609ed5-fab0-4693-fc11-eed3da0476b7"
      },
      "execution_count": 110,
      "outputs": [
        {
          "output_type": "execute_result",
          "data": {
            "text/plain": [
              "array([0.01158103])"
            ]
          },
          "metadata": {},
          "execution_count": 110
        }
      ]
    },
    {
      "cell_type": "code",
      "source": [
        "# 스케일링 되어 있는걸 다시 돌려서 값을 예측하기.\n",
        "regressor.predict(sc_X1.transform([[6.5]]))"
      ],
      "metadata": {
        "id": "1kaaH3qvJAeP",
        "colab": {
          "base_uri": "https://localhost:8080/",
          "height": 0
        },
        "outputId": "b13e02ca-d5c2-4771-e405-5e2e9ab5d06b"
      },
      "execution_count": 112,
      "outputs": [
        {
          "output_type": "execute_result",
          "data": {
            "text/plain": [
              "array([-0.27861589])"
            ]
          },
          "metadata": {},
          "execution_count": 112
        }
      ]
    },
    {
      "cell_type": "code",
      "source": [
        "# 역변환 inverse_transform()\n",
        "\n",
        "# sc_y1.inverse_transform(regressor.predict(sc_X1.transform([[6.5]])))\n",
        "# ↑ Expected 2D array, got 1D array instead: 오류\n",
        "\n",
        "sc_y1.inverse_transform([regressor.predict(sc_X1.transform([[6.5]]))])"
      ],
      "metadata": {
        "id": "4wZmGp2kJAbJ",
        "colab": {
          "base_uri": "https://localhost:8080/",
          "height": 0
        },
        "outputId": "b27406d8-73fa-40a7-ab09-5729554885e5"
      },
      "execution_count": 117,
      "outputs": [
        {
          "output_type": "execute_result",
          "data": {
            "text/plain": [
              "array([[170370.0204065]])"
            ]
          },
          "metadata": {},
          "execution_count": 117
        }
      ]
    },
    {
      "cell_type": "code",
      "source": [
        "# 또는\n",
        "sc_y1.inverse_transform(regressor.predict(sc_X1.transform([[6.5]])).reshape(-1,1))"
      ],
      "metadata": {
        "colab": {
          "base_uri": "https://localhost:8080/",
          "height": 0
        },
        "id": "TQQRBnnN-iUC",
        "outputId": "00a295c3-1e2d-4b9e-d601-ea7e22503028"
      },
      "execution_count": 139,
      "outputs": [
        {
          "output_type": "execute_result",
          "data": {
            "text/plain": [
              "array([[170370.0204065]])"
            ]
          },
          "metadata": {},
          "execution_count": 139
        }
      ]
    },
    {
      "cell_type": "markdown",
      "source": [
        "|Position|Level|Salary|\n",
        "|---|---|---|\n",
        "|Business Analyst|1|45000|\n",
        "|Junior Consultant|2|50000|\n",
        "|Senior Consultant|3|60000|\n",
        "|Manager|4|80000|\n",
        "|Country Manager|5|110000|\n",
        "|Region Manager|6|150000|\n",
        "|Partner|7|200000|\n",
        "|Senior Partner|8|300000|\n",
        "|C-level|9|500000|\n",
        "|CEO|10|1000000|"
      ],
      "metadata": {
        "id": "KDHKHTZCs3qw"
      }
    },
    {
      "cell_type": "markdown",
      "source": [
        "#### 다항 회귀 예측값 \n",
        "![image.png](data:image/png;base64,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)"
      ],
      "metadata": {
        "id": "mVAh6x3068k9"
      }
    },
    {
      "cell_type": "code",
      "source": [
        "# SVR 모형이 더 잘 들어 맞는다는걸 확인할 수 있음..?"
      ],
      "metadata": {
        "id": "9shVJ_mBzwEC"
      },
      "execution_count": 126,
      "outputs": []
    },
    {
      "cell_type": "markdown",
      "metadata": {
        "id": "zzedFlUISSu_"
      },
      "source": [
        "## Visualising the SVR results"
      ]
    },
    {
      "cell_type": "code",
      "source": [
        "# 실제 급여 산점도도\n",
        "plt.scatter(sc_X1.inverse_transform(X1), sc_y1.inverse_transform(y1), color = 'gray')\n",
        "plt.plot(sc_X1.inverse_transform(X1), sc_y1.inverse_transform(regressor.predict(X1).reshape(-1,1)), color = 'blue')\n",
        "\n",
        "plt.title('Truth or Bluff (SVR)')\n",
        "plt.xlabel('Position level')\n",
        "plt.ylabel('Salary')\n",
        "plt.show()"
      ],
      "metadata": {
        "colab": {
          "base_uri": "https://localhost:8080/",
          "height": 472
        },
        "id": "i8Quwa9569wd",
        "outputId": "48aa1001-3af0-4358-e1b3-4b129639ecdf"
      },
      "execution_count": 144,
      "outputs": [
        {
          "output_type": "display_data",
          "data": {
            "text/plain": [
              "<Figure size 640x480 with 1 Axes>"
            ],
            "image/png": "[encoded data removed]"
          },
          "metadata": {}
        }
      ]
    },
    {
      "cell_type": "markdown",
      "metadata": {
        "id": "UahPVNlJSZ-K"
      },
      "source": [
        "## Visualising the SVR results (for higher resolution and smoother curve)"
      ]
    },
    {
      "cell_type": "code",
      "source": [
        "X_grid = np.arange(min(sc_X1.inverse_transform(X1)), max(sc_X1.inverse_transform(X1)), 0.1)\n",
        "X_grid = X_grid.reshape((len(X_grid), 1))\n",
        "\n",
        "plt.scatter(sc_X1.inverse_transform(X1), sc_y1.inverse_transform(y1), color = 'red')\n",
        "\n",
        "plt.plot(X_grid, sc_y1.inverse_transform(regressor.predict(sc_X1.transform(X_grid)).reshape(-1,1)), color = 'blue')\n",
        "plt.title('Truth or Bluff (SVR)')\n",
        "plt.xlabel('Position level')\n",
        "plt.ylabel('Salary')\n",
        "plt.show()"
      ],
      "metadata": {
        "colab": {
          "base_uri": "https://localhost:8080/",
          "height": 472
        },
        "id": "lHmYVdTzzwBe",
        "outputId": "976fff75-c5cd-4271-cf02-f7f821565e61"
      },
      "execution_count": 155,
      "outputs": [
        {
          "output_type": "display_data",
          "data": {
            "text/plain": [
              "<Figure size 640x480 with 1 Axes>"
            ],
            "image/png": "[encoded data removed]"
          },
          "metadata": {}
        }
      ]
    },
    {
      "cell_type": "code",
      "source": [
        "# 배열배열배열 reshape reshape 에러 코드 읽어보면서 하자 \n",
        "# 위치 확인하자 reshape 위치위치위치!!!!!!!!"
      ],
      "metadata": {
        "id": "wNW5nb63BuRS"
      },
      "execution_count": null,
      "outputs": []
    }
  ]
}